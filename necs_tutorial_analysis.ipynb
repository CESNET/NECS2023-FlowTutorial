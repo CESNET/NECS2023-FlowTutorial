{
 "cells": [
  {
   "attachments": {},
   "cell_type": "markdown",
   "metadata": {},
   "source": [
    "# NECS tutorial - Basic network traffic analysis using Time Series Analysis\n",
    "\n",
    "For analysis we will use subsequence of the IP flows of HTTPS data from our network NETMONLAB (Network Monitoring Laboratory)"
   ]
  },
  {
   "cell_type": "code",
   "execution_count": null,
   "metadata": {},
   "outputs": [],
   "source": [
    "!pip3 install numpy\n",
    "!pip3 install pandas\n",
    "!pip3 install matplotlib"
   ]
  },
  {
   "cell_type": "code",
   "execution_count": null,
   "metadata": {},
   "outputs": [],
   "source": [
    "import numpy as np\n",
    "import pandas as pd\n",
    "from datetime import datetime\n",
    "import time\n",
    "import matplotlib.pyplot as plt"
   ]
  },
  {
   "attachments": {},
   "cell_type": "markdown",
   "metadata": {},
   "source": [
    "Load data"
   ]
  },
  {
   "cell_type": "code",
   "execution_count": null,
   "metadata": {},
   "outputs": [],
   "source": [
    "df = pd.read_csv(\"necs_data.csv\")"
   ]
  },
  {
   "cell_type": "code",
   "execution_count": null,
   "metadata": {},
   "outputs": [],
   "source": [
    "df"
   ]
  },
  {
   "cell_type": "code",
   "execution_count": null,
   "metadata": {},
   "outputs": [],
   "source": [
    "df[\"TIME_FIRST\"] = df[\"TIME_FIRST\"].apply(datetime.utcfromtimestamp)\n",
    "df"
   ]
  },
  {
   "cell_type": "code",
   "execution_count": null,
   "metadata": {},
   "outputs": [],
   "source": [
    "fig, ax = plt.subplots(figsize=(15,5))\n",
    "ax.scatter(df.TIME_FIRST, df.PACKETS)\n",
    "plt.xlabel(\"Time\")\n",
    "plt.ylabel(\"Number of packets\")\n",
    "plt.show()"
   ]
  },
  {
   "attachments": {},
   "cell_type": "markdown",
   "metadata": {},
   "source": [
    "Aggregate network traffic per hour"
   ]
  },
  {
   "cell_type": "code",
   "execution_count": null,
   "metadata": {},
   "outputs": [],
   "source": [
    "df_agg = df.resample('H', on='TIME_FIRST')[[\"PACKETS\"]].sum()\n",
    "df_agg"
   ]
  },
  {
   "cell_type": "code",
   "execution_count": null,
   "metadata": {},
   "outputs": [],
   "source": [
    "fig, ax = plt.subplots(figsize=(15,5))\n",
    "df_agg.PACKETS.plot(legend=True, fig=fig)\n",
    "plt.xlabel(\"Time\")\n",
    "plt.ylabel(\"Number of packets\")\n",
    "plt.show()"
   ]
  },
  {
   "attachments": {},
   "cell_type": "markdown",
   "metadata": {},
   "source": [
    "# Time Series Forecasting\n",
    "\n",
    "Network traffic forecasting provides critical information for network management, resource allocation, and attack detection. We will forecast by using the basic ARIMA model.\n",
    "\n",
    "### ARIMA model \n",
    " \n",
    "ARIMA is an extension of the ARMA model (Autoregressive Moving average), which also allows use on non-stationary time series. We write as: \n",
    "\n",
    "$ARIMA(p,d,q)$ \n",
    "\n",
    "Where $p$ is the order of the AR component and expresses how many time intervals back this component of the model \"looks\", $d$ is the order of the integration component and means the number of consecutive times the difference is applied (removal of trend, $d = 1$, or/and seasonality, $d = 2$), and $q$ is the order of the MA component and expresses from how many time intervals in the past the errors in the model are applied.\n",
    "\n",
    "To capture the seasonality of time series, the basic model can be supplemented with an ARIMA model of the seasonal component, the parameters of which are marked with capital letters and given in additional brackets with $M$ that represents periodicity, in total: \n",
    "\n",
    "$ARIMA(p, d, q)(P, D, Q, M)$\n",
    "\n",
    "The $(P, D, Q, M)$ order refers to the seasonal component of the model for the Auto Regressive parameters, differences, Moving Average parameters, and periodicity:\n",
    "\n",
    "- $D$ indicates the integration order of the seasonal process (the number of transformations needed to make stationary the time series)\n",
    "- $P$ indicates the Auto Regressive order for the seasonal component\n",
    "- $Q$ indicated the Moving Average order for the seasonal component\n",
    "- $M$ indicates the periodicity, i.e., the number of periods in season, such as 12 for monthly data.\n",
    "\n",
    "ARIMA models are estimated using the so-called Box–Jenkins method, proposed by George Box and Gwilym Jenkins. It has three steps:\n",
    "\n",
    "1. Model order identification and selection. This part of the analysis is to find out which values ​​of the orders $p$, $d$, $q$ or $P$, $D$, $Q$ are to be set. Here, the analysis of autocorrelations and partial autocorrelations of the examined time series is used.\n",
    "2. Estimation of regression coefficients, usually by the method of maximum likelihood\n",
    "3. Testing the model, especially the stationarity of its residuals."
   ]
  },
  {
   "cell_type": "code",
   "execution_count": null,
   "metadata": {},
   "outputs": [],
   "source": [
    "!pip3 install pmdarima\n",
    "!pip3 install statsmodels"
   ]
  },
  {
   "cell_type": "code",
   "execution_count": null,
   "metadata": {},
   "outputs": [],
   "source": [
    "import pmdarima as pm\n",
    "from statsmodels.tsa.seasonal import seasonal_decompose\n",
    "from statsmodels.tsa.stattools import acf, arma_order_select_ic\n",
    "from statsmodels.graphics.tsaplots import plot_acf, plot_pacf\n",
    "from statsmodels.tsa.stattools import adfuller\n",
    "from statsmodels.tsa.arima.model import ARIMA"
   ]
  },
  {
   "cell_type": "code",
   "execution_count": null,
   "metadata": {},
   "outputs": [],
   "source": [
    "df_small = df[df.TIME_FIRST < \"11.20.2022\"]\n",
    "df_small = df_small.resample('H', on='TIME_FIRST')[[\"PACKETS\"]].sum()\n",
    "display(df_small, df_agg)"
   ]
  },
  {
   "attachments": {},
   "cell_type": "markdown",
   "metadata": {},
   "source": [
    "#### Selecting $(p,d,q)$\n",
    "\n",
    "Find the $(p,d,q)$ by auto_arima:"
   ]
  },
  {
   "cell_type": "code",
   "execution_count": null,
   "metadata": {},
   "outputs": [],
   "source": [
    "stepwise_fit = pm.auto_arima(df_small, start_p=1, start_q=1,\n",
    "                             max_p=3, max_q=3, m=7,\n",
    "                             start_P=0, seasonal=True,\n",
    "                             d=1, trace=True, stepwise=False,\n",
    "                             information_criterion='aic',\n",
    "                             error_action=\"ignore\")"
   ]
  },
  {
   "attachments": {},
   "cell_type": "markdown",
   "metadata": {},
   "source": [
    "So the order parameter of ARIMA model will be $(0,1,1)$"
   ]
  },
  {
   "attachments": {},
   "cell_type": "markdown",
   "metadata": {},
   "source": [
    "#### Selecting $(P,D,Q,M)$\n",
    "Next we want to set seasonal order parameter of ARIMA model. \n",
    "\n",
    "##### $M$ order\n",
    "First we must find seasonality by seasonal decompose:"
   ]
  },
  {
   "cell_type": "code",
   "execution_count": null,
   "metadata": {},
   "outputs": [],
   "source": [
    "result = seasonal_decompose(df_small.PACKETS, model='additive')\n",
    "resid_acf = acf(result.resid, nlags=10, missing='drop')\n",
    "sum_of_squares_resid_acf = np.sum(resid_acf**2)\n",
    "print('Sum of Squares of ACF Residuals:', sum_of_squares_resid_acf)\n",
    "result.plot()\n",
    "plt.show()"
   ]
  },
  {
   "cell_type": "code",
   "execution_count": null,
   "metadata": {},
   "outputs": [],
   "source": [
    "result._seasonal[:25]"
   ]
  },
  {
   "attachments": {},
   "cell_type": "markdown",
   "metadata": {},
   "source": [
    "So the seasonality is 24 hours. That means $M = 24$."
   ]
  },
  {
   "attachments": {},
   "cell_type": "markdown",
   "metadata": {},
   "source": [
    "##### $D$ order\n",
    "Check stationarity of time series. If time series is stationary, then D order is setted to 0."
   ]
  },
  {
   "cell_type": "code",
   "execution_count": null,
   "metadata": {},
   "outputs": [],
   "source": [
    "def check_stationarity(ts):\n",
    "    dftest = adfuller(ts)\n",
    "    adf = dftest[0]\n",
    "    pvalue = dftest[1]\n",
    "    critical_value = dftest[4]['5%']\n",
    "    if (pvalue < 0.05) and (adf < critical_value):\n",
    "        print('The series is stationary')\n",
    "    else:\n",
    "        print('The series is NOT stationary')"
   ]
  },
  {
   "cell_type": "code",
   "execution_count": null,
   "metadata": {},
   "outputs": [],
   "source": [
    "seasonal = result.seasonal\n",
    "check_stationarity(seasonal)"
   ]
  },
  {
   "attachments": {},
   "cell_type": "markdown",
   "metadata": {},
   "source": [
    "The searies is stationary so we can set $D = 0$"
   ]
  },
  {
   "attachments": {},
   "cell_type": "markdown",
   "metadata": {},
   "source": [
    "##### $P$ order\n",
    "The value of $P$ order can be extracted by looking at the Partial Autocorrelation (PACF) graph of the seasonal component. PACF can be imagined as the correlation between the series and its lag, after excluding the contributions from the intermediate lags."
   ]
  },
  {
   "cell_type": "code",
   "execution_count": null,
   "metadata": {},
   "outputs": [],
   "source": [
    "plot_pacf(seasonal, lags=24)\n",
    "plt.show()"
   ]
  },
  {
   "attachments": {},
   "cell_type": "markdown",
   "metadata": {},
   "source": [
    "We select P order as first lag of PACF that is out of confidental interval. So the $P = 1$\n",
    "\n",
    "##### $Q$ order\n",
    "\n",
    "The $Q$ order can be calculated from the Autocorrelation (ACF) plot. Autocorrelation is the correlation of a single time series with a lagged copy of itself."
   ]
  },
  {
   "cell_type": "code",
   "execution_count": null,
   "metadata": {},
   "outputs": [],
   "source": [
    "plot_acf(seasonal, lags=24)\n",
    "plt.show()"
   ]
  },
  {
   "attachments": {},
   "cell_type": "markdown",
   "metadata": {},
   "source": [
    "From ACF we select $Q$ order as the lag that is out of confidental interval before first in confidental interval. That means $Q = 4$\n",
    "\n",
    "So the best seasonal_order $(P,D,Q,M) = (1,0,4,24)$ "
   ]
  },
  {
   "attachments": {},
   "cell_type": "markdown",
   "metadata": {},
   "source": [
    "##### Forecast using $ARIMA(0,1,1)(1,0,4,24)$"
   ]
  },
  {
   "cell_type": "code",
   "execution_count": null,
   "metadata": {},
   "outputs": [],
   "source": [
    "model = ARIMA(df_small.PACKETS, order=(0,1,1), seasonal_order=(1,0,4,24))\n",
    "res = model.fit()\n",
    "\n",
    "fcast_horizon = df_agg.PACKETS.index[-1]\n",
    "preds = res.get_prediction(end=fcast_horizon)\n",
    "\n",
    "ci = preds.conf_int()\n",
    "ci.loc[ci[\"lower PACKETS\"] < 0,\"lower PACKETS\"] = 0\n",
    "\n",
    "fig = ci.plot(color='grey', figsize=(12, 5))\n",
    "df_agg.PACKETS.plot(label='data - hidden', marker='.')\n",
    "res.data.orig_endog.plot(label='data - modelled', marker='.', fig=fig)\n",
    "preds.predicted_mean.plot(label='predicted', fig=fig)\n",
    "plt.legend()\n",
    "plt.ylim((-1000,300000))\n",
    "plt.xlim((\"11.15.2022\",\"11.28.2022\"))\n",
    "plt.show()"
   ]
  },
  {
   "attachments": {},
   "cell_type": "markdown",
   "metadata": {},
   "source": [
    "We can see that the prediction accuracy gradually deteriorates"
   ]
  },
  {
   "cell_type": "code",
   "execution_count": null,
   "metadata": {},
   "outputs": [],
   "source": []
  }
 ],
 "metadata": {
  "kernelspec": {
   "display_name": "Python 3",
   "language": "python",
   "name": "python3"
  },
  "language_info": {
   "codemirror_mode": {
    "name": "ipython",
    "version": 3
   },
   "file_extension": ".py",
   "mimetype": "text/x-python",
   "name": "python",
   "nbconvert_exporter": "python",
   "pygments_lexer": "ipython3",
   "version": "3.9.6"
  },
  "orig_nbformat": 4,
  "vscode": {
   "interpreter": {
    "hash": "31f2aee4e71d21fbe5cf8b01ff0e069b9275f58929596ceb00d14d90e3e16cd6"
   }
  }
 },
 "nbformat": 4,
 "nbformat_minor": 2
}
